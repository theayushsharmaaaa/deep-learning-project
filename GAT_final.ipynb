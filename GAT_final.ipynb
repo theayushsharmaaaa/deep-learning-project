{
 "cells": [
  {
   "cell_type": "markdown",
   "id": "8eb2650f",
   "metadata": {
    "papermill": {
     "duration": 0.010066,
     "end_time": "2023-12-13T23:26:05.075529",
     "exception": false,
     "start_time": "2023-12-13T23:26:05.065463",
     "status": "completed"
    },
    "tags": []
   },
   "source": [
    "## Install dependencies"
   ]
  },
  {
   "cell_type": "code",
   "execution_count": 1,
   "id": "054ed8d6",
   "metadata": {
    "execution": {
     "iopub.execute_input": "2023-12-13T23:26:05.096959Z",
     "iopub.status.busy": "2023-12-13T23:26:05.096101Z",
     "iopub.status.idle": "2023-12-13T23:26:45.877357Z",
     "shell.execute_reply": "2023-12-13T23:26:45.876138Z"
    },
    "papermill": {
     "duration": 40.794983,
     "end_time": "2023-12-13T23:26:45.880716",
     "exception": false,
     "start_time": "2023-12-13T23:26:05.085733",
     "status": "completed"
    },
    "tags": []
   },
   "outputs": [],
   "source": [
    "%%capture\n",
    "!pip install /kaggle/input/torch-geometric/torch_scatter-2.1.2-cp310-cp310-linux_x86_64.whl\n",
    "!pip install /kaggle/input/torch-geometric/torch_sparse-0.6.18-cp310-cp310-linux_x86_64.whl\n",
    "!pip install torch-geometric"
   ]
  },
  {
   "cell_type": "markdown",
   "id": "fede10da",
   "metadata": {
    "papermill": {
     "duration": 0.008437,
     "end_time": "2023-12-13T23:26:45.898657",
     "exception": false,
     "start_time": "2023-12-13T23:26:45.890220",
     "status": "completed"
    },
    "tags": []
   },
   "source": [
    "## Imports\n",
    "Import all the modules, we will need later."
   ]
  },
  {
   "cell_type": "code",
   "execution_count": 2,
   "id": "2e7ceb58",
   "metadata": {
    "execution": {
     "iopub.execute_input": "2023-12-13T23:26:45.917471Z",
     "iopub.status.busy": "2023-12-13T23:26:45.917063Z",
     "iopub.status.idle": "2023-12-13T23:26:55.135496Z",
     "shell.execute_reply": "2023-12-13T23:26:55.134627Z"
    },
    "papermill": {
     "duration": 9.230601,
     "end_time": "2023-12-13T23:26:55.137938",
     "exception": false,
     "start_time": "2023-12-13T23:26:45.907337",
     "status": "completed"
    },
    "tags": []
   },
   "outputs": [
    {
     "name": "stderr",
     "output_type": "stream",
     "text": [
      "/opt/conda/lib/python3.10/site-packages/scipy/__init__.py:146: UserWarning: A NumPy version >=1.16.5 and <1.23.0 is required for this version of SciPy (detected version 1.24.3\n",
      "  warnings.warn(f\"A NumPy version >={np_minversion} and <{np_maxversion}\"\n"
     ]
    }
   ],
   "source": [
    "import os\n",
    "import copy\n",
    "import torch\n",
    "import warnings\n",
    "import numpy as np\n",
    "import pandas as pd\n",
    "import networkx as nx\n",
    "import seaborn as sns\n",
    "import matplotlib.pyplot as plt\n",
    "\n",
    "from sklearn.metrics import confusion_matrix, classification_report\n",
    "from sklearn.model_selection import train_test_split\n",
    "\n",
    "from torch_geometric.utils import to_networkx\n",
    "from torch_geometric.data import Data, DataLoader\n",
    "\n",
    "import torch.nn.functional as F\n",
    "from torch.nn import Linear, BatchNorm1d\n",
    "from torch_geometric.nn import GATv2Conv\n",
    "\n",
    "from types import SimpleNamespace\n",
    "\n",
    "warnings.filterwarnings('ignore')"
   ]
  },
  {
   "cell_type": "markdown",
   "id": "41a58479",
   "metadata": {
    "papermill": {
     "duration": 0.008698,
     "end_time": "2023-12-13T23:26:55.155625",
     "exception": false,
     "start_time": "2023-12-13T23:26:55.146927",
     "status": "completed"
    },
    "tags": []
   },
   "source": [
    "Let's have a look at the data."
   ]
  },
  {
   "cell_type": "code",
   "execution_count": 3,
   "id": "660535e0",
   "metadata": {
    "execution": {
     "iopub.execute_input": "2023-12-13T23:26:55.175321Z",
     "iopub.status.busy": "2023-12-13T23:26:55.174758Z",
     "iopub.status.idle": "2023-12-13T23:27:14.977068Z",
     "shell.execute_reply": "2023-12-13T23:27:14.976180Z"
    },
    "papermill": {
     "duration": 19.814966,
     "end_time": "2023-12-13T23:27:14.979623",
     "exception": false,
     "start_time": "2023-12-13T23:26:55.164657",
     "status": "completed"
    },
    "tags": []
   },
   "outputs": [],
   "source": [
    "df_features = pd.read_csv('/kaggle/input/elliptic-data-set/elliptic_bitcoin_dataset/elliptic_txs_features.csv', header=None)\n",
    "df_edges = pd.read_csv(\"/kaggle/input/elliptic-data-set/elliptic_bitcoin_dataset/elliptic_txs_edgelist.csv\")\n",
    "df_classes =  pd.read_csv(\"/kaggle/input/elliptic-data-set/elliptic_bitcoin_dataset/elliptic_txs_classes.csv\")\n",
    "df_classes['class'] = df_classes['class'].map({'unknown': 2, '1': 1, '2': 0})"
   ]
  },
  {
   "cell_type": "markdown",
   "id": "4bdec72e",
   "metadata": {
    "papermill": {
     "duration": 0.008538,
     "end_time": "2023-12-13T23:27:14.998283",
     "exception": false,
     "start_time": "2023-12-13T23:27:14.989745",
     "status": "completed"
    },
    "tags": []
   },
   "source": [
    "`df_features` contains each node id and corresponding features."
   ]
  },
  {
   "cell_type": "code",
   "execution_count": 4,
   "id": "f19fa942",
   "metadata": {
    "execution": {
     "iopub.execute_input": "2023-12-13T23:27:15.016795Z",
     "iopub.status.busy": "2023-12-13T23:27:15.016441Z",
     "iopub.status.idle": "2023-12-13T23:27:15.047196Z",
     "shell.execute_reply": "2023-12-13T23:27:15.046296Z"
    },
    "papermill": {
     "duration": 0.042413,
     "end_time": "2023-12-13T23:27:15.049430",
     "exception": false,
     "start_time": "2023-12-13T23:27:15.007017",
     "status": "completed"
    },
    "tags": []
   },
   "outputs": [
    {
     "data": {
      "text/html": [
       "<div>\n",
       "<style scoped>\n",
       "    .dataframe tbody tr th:only-of-type {\n",
       "        vertical-align: middle;\n",
       "    }\n",
       "\n",
       "    .dataframe tbody tr th {\n",
       "        vertical-align: top;\n",
       "    }\n",
       "\n",
       "    .dataframe thead th {\n",
       "        text-align: right;\n",
       "    }\n",
       "</style>\n",
       "<table border=\"1\" class=\"dataframe\">\n",
       "  <thead>\n",
       "    <tr style=\"text-align: right;\">\n",
       "      <th></th>\n",
       "      <th>0</th>\n",
       "      <th>1</th>\n",
       "      <th>2</th>\n",
       "      <th>3</th>\n",
       "      <th>4</th>\n",
       "      <th>5</th>\n",
       "      <th>6</th>\n",
       "      <th>7</th>\n",
       "      <th>8</th>\n",
       "      <th>9</th>\n",
       "      <th>...</th>\n",
       "      <th>157</th>\n",
       "      <th>158</th>\n",
       "      <th>159</th>\n",
       "      <th>160</th>\n",
       "      <th>161</th>\n",
       "      <th>162</th>\n",
       "      <th>163</th>\n",
       "      <th>164</th>\n",
       "      <th>165</th>\n",
       "      <th>166</th>\n",
       "    </tr>\n",
       "  </thead>\n",
       "  <tbody>\n",
       "    <tr>\n",
       "      <th>0</th>\n",
       "      <td>230425980</td>\n",
       "      <td>1</td>\n",
       "      <td>-0.171469</td>\n",
       "      <td>-0.184668</td>\n",
       "      <td>-1.201369</td>\n",
       "      <td>-0.121970</td>\n",
       "      <td>-0.043875</td>\n",
       "      <td>-0.113002</td>\n",
       "      <td>-0.061584</td>\n",
       "      <td>-0.162097</td>\n",
       "      <td>...</td>\n",
       "      <td>-0.562153</td>\n",
       "      <td>-0.600999</td>\n",
       "      <td>1.461330</td>\n",
       "      <td>1.461369</td>\n",
       "      <td>0.018279</td>\n",
       "      <td>-0.087490</td>\n",
       "      <td>-0.131155</td>\n",
       "      <td>-0.097524</td>\n",
       "      <td>-0.120613</td>\n",
       "      <td>-0.119792</td>\n",
       "    </tr>\n",
       "    <tr>\n",
       "      <th>1</th>\n",
       "      <td>5530458</td>\n",
       "      <td>1</td>\n",
       "      <td>-0.171484</td>\n",
       "      <td>-0.184668</td>\n",
       "      <td>-1.201369</td>\n",
       "      <td>-0.121970</td>\n",
       "      <td>-0.043875</td>\n",
       "      <td>-0.113002</td>\n",
       "      <td>-0.061584</td>\n",
       "      <td>-0.162112</td>\n",
       "      <td>...</td>\n",
       "      <td>0.947382</td>\n",
       "      <td>0.673103</td>\n",
       "      <td>-0.979074</td>\n",
       "      <td>-0.978556</td>\n",
       "      <td>0.018279</td>\n",
       "      <td>-0.087490</td>\n",
       "      <td>-0.131155</td>\n",
       "      <td>-0.097524</td>\n",
       "      <td>-0.120613</td>\n",
       "      <td>-0.119792</td>\n",
       "    </tr>\n",
       "    <tr>\n",
       "      <th>2</th>\n",
       "      <td>232022460</td>\n",
       "      <td>1</td>\n",
       "      <td>-0.172107</td>\n",
       "      <td>-0.184668</td>\n",
       "      <td>-1.201369</td>\n",
       "      <td>-0.121970</td>\n",
       "      <td>-0.043875</td>\n",
       "      <td>-0.113002</td>\n",
       "      <td>-0.061584</td>\n",
       "      <td>-0.162749</td>\n",
       "      <td>...</td>\n",
       "      <td>0.670883</td>\n",
       "      <td>0.439728</td>\n",
       "      <td>-0.979074</td>\n",
       "      <td>-0.978556</td>\n",
       "      <td>-0.098889</td>\n",
       "      <td>-0.106715</td>\n",
       "      <td>-0.131155</td>\n",
       "      <td>-0.183671</td>\n",
       "      <td>-0.120613</td>\n",
       "      <td>-0.119792</td>\n",
       "    </tr>\n",
       "    <tr>\n",
       "      <th>3</th>\n",
       "      <td>232438397</td>\n",
       "      <td>1</td>\n",
       "      <td>0.163054</td>\n",
       "      <td>1.963790</td>\n",
       "      <td>-0.646376</td>\n",
       "      <td>12.409294</td>\n",
       "      <td>-0.063725</td>\n",
       "      <td>9.782742</td>\n",
       "      <td>12.414558</td>\n",
       "      <td>-0.163645</td>\n",
       "      <td>...</td>\n",
       "      <td>-0.577099</td>\n",
       "      <td>-0.613614</td>\n",
       "      <td>0.241128</td>\n",
       "      <td>0.241406</td>\n",
       "      <td>1.072793</td>\n",
       "      <td>0.085530</td>\n",
       "      <td>-0.131155</td>\n",
       "      <td>0.677799</td>\n",
       "      <td>-0.120613</td>\n",
       "      <td>-0.119792</td>\n",
       "    </tr>\n",
       "    <tr>\n",
       "      <th>4</th>\n",
       "      <td>230460314</td>\n",
       "      <td>1</td>\n",
       "      <td>1.011523</td>\n",
       "      <td>-0.081127</td>\n",
       "      <td>-1.201369</td>\n",
       "      <td>1.153668</td>\n",
       "      <td>0.333276</td>\n",
       "      <td>1.312656</td>\n",
       "      <td>-0.061584</td>\n",
       "      <td>-0.163523</td>\n",
       "      <td>...</td>\n",
       "      <td>-0.511871</td>\n",
       "      <td>-0.400422</td>\n",
       "      <td>0.517257</td>\n",
       "      <td>0.579382</td>\n",
       "      <td>0.018279</td>\n",
       "      <td>0.277775</td>\n",
       "      <td>0.326394</td>\n",
       "      <td>1.293750</td>\n",
       "      <td>0.178136</td>\n",
       "      <td>0.179117</td>\n",
       "    </tr>\n",
       "  </tbody>\n",
       "</table>\n",
       "<p>5 rows × 167 columns</p>\n",
       "</div>"
      ],
      "text/plain": [
       "         0    1         2         3         4          5         6    \\\n",
       "0  230425980    1 -0.171469 -0.184668 -1.201369  -0.121970 -0.043875   \n",
       "1    5530458    1 -0.171484 -0.184668 -1.201369  -0.121970 -0.043875   \n",
       "2  232022460    1 -0.172107 -0.184668 -1.201369  -0.121970 -0.043875   \n",
       "3  232438397    1  0.163054  1.963790 -0.646376  12.409294 -0.063725   \n",
       "4  230460314    1  1.011523 -0.081127 -1.201369   1.153668  0.333276   \n",
       "\n",
       "        7          8         9    ...       157       158       159       160  \\\n",
       "0 -0.113002  -0.061584 -0.162097  ... -0.562153 -0.600999  1.461330  1.461369   \n",
       "1 -0.113002  -0.061584 -0.162112  ...  0.947382  0.673103 -0.979074 -0.978556   \n",
       "2 -0.113002  -0.061584 -0.162749  ...  0.670883  0.439728 -0.979074 -0.978556   \n",
       "3  9.782742  12.414558 -0.163645  ... -0.577099 -0.613614  0.241128  0.241406   \n",
       "4  1.312656  -0.061584 -0.163523  ... -0.511871 -0.400422  0.517257  0.579382   \n",
       "\n",
       "        161       162       163       164       165       166  \n",
       "0  0.018279 -0.087490 -0.131155 -0.097524 -0.120613 -0.119792  \n",
       "1  0.018279 -0.087490 -0.131155 -0.097524 -0.120613 -0.119792  \n",
       "2 -0.098889 -0.106715 -0.131155 -0.183671 -0.120613 -0.119792  \n",
       "3  1.072793  0.085530 -0.131155  0.677799 -0.120613 -0.119792  \n",
       "4  0.018279  0.277775  0.326394  1.293750  0.178136  0.179117  \n",
       "\n",
       "[5 rows x 167 columns]"
      ]
     },
     "execution_count": 4,
     "metadata": {},
     "output_type": "execute_result"
    }
   ],
   "source": [
    "# nodes features\n",
    "df_features.head()"
   ]
  },
  {
   "cell_type": "markdown",
   "id": "4ca92d97",
   "metadata": {
    "papermill": {
     "duration": 0.008746,
     "end_time": "2023-12-13T23:27:15.067374",
     "exception": false,
     "start_time": "2023-12-13T23:27:15.058628",
     "status": "completed"
    },
    "tags": []
   },
   "source": [
    "`df_edges` contains list of edges."
   ]
  },
  {
   "cell_type": "code",
   "execution_count": 5,
   "id": "ba4728fb",
   "metadata": {
    "execution": {
     "iopub.execute_input": "2023-12-13T23:27:15.086832Z",
     "iopub.status.busy": "2023-12-13T23:27:15.086511Z",
     "iopub.status.idle": "2023-12-13T23:27:15.094959Z",
     "shell.execute_reply": "2023-12-13T23:27:15.093950Z"
    },
    "papermill": {
     "duration": 0.021018,
     "end_time": "2023-12-13T23:27:15.097146",
     "exception": false,
     "start_time": "2023-12-13T23:27:15.076128",
     "status": "completed"
    },
    "tags": []
   },
   "outputs": [
    {
     "data": {
      "text/html": [
       "<div>\n",
       "<style scoped>\n",
       "    .dataframe tbody tr th:only-of-type {\n",
       "        vertical-align: middle;\n",
       "    }\n",
       "\n",
       "    .dataframe tbody tr th {\n",
       "        vertical-align: top;\n",
       "    }\n",
       "\n",
       "    .dataframe thead th {\n",
       "        text-align: right;\n",
       "    }\n",
       "</style>\n",
       "<table border=\"1\" class=\"dataframe\">\n",
       "  <thead>\n",
       "    <tr style=\"text-align: right;\">\n",
       "      <th></th>\n",
       "      <th>txId1</th>\n",
       "      <th>txId2</th>\n",
       "    </tr>\n",
       "  </thead>\n",
       "  <tbody>\n",
       "    <tr>\n",
       "      <th>0</th>\n",
       "      <td>230425980</td>\n",
       "      <td>5530458</td>\n",
       "    </tr>\n",
       "    <tr>\n",
       "      <th>1</th>\n",
       "      <td>232022460</td>\n",
       "      <td>232438397</td>\n",
       "    </tr>\n",
       "    <tr>\n",
       "      <th>2</th>\n",
       "      <td>230460314</td>\n",
       "      <td>230459870</td>\n",
       "    </tr>\n",
       "    <tr>\n",
       "      <th>3</th>\n",
       "      <td>230333930</td>\n",
       "      <td>230595899</td>\n",
       "    </tr>\n",
       "    <tr>\n",
       "      <th>4</th>\n",
       "      <td>232013274</td>\n",
       "      <td>232029206</td>\n",
       "    </tr>\n",
       "  </tbody>\n",
       "</table>\n",
       "</div>"
      ],
      "text/plain": [
       "       txId1      txId2\n",
       "0  230425980    5530458\n",
       "1  232022460  232438397\n",
       "2  230460314  230459870\n",
       "3  230333930  230595899\n",
       "4  232013274  232029206"
      ]
     },
     "execution_count": 5,
     "metadata": {},
     "output_type": "execute_result"
    }
   ],
   "source": [
    "# edges\n",
    "df_edges.head()"
   ]
  },
  {
   "cell_type": "markdown",
   "id": "edbd38d0",
   "metadata": {
    "papermill": {
     "duration": 0.009824,
     "end_time": "2023-12-13T23:27:15.116651",
     "exception": false,
     "start_time": "2023-12-13T23:27:15.106827",
     "status": "completed"
    },
    "tags": []
   },
   "source": [
    "`df_classes` contains each node id and corresponding class, where *0 - licit, 1 - ilicit* and *2 - unknown*."
   ]
  },
  {
   "cell_type": "code",
   "execution_count": 6,
   "id": "cd7766d6",
   "metadata": {
    "execution": {
     "iopub.execute_input": "2023-12-13T23:27:15.137533Z",
     "iopub.status.busy": "2023-12-13T23:27:15.137202Z",
     "iopub.status.idle": "2023-12-13T23:27:15.146533Z",
     "shell.execute_reply": "2023-12-13T23:27:15.145612Z"
    },
    "papermill": {
     "duration": 0.022169,
     "end_time": "2023-12-13T23:27:15.148719",
     "exception": false,
     "start_time": "2023-12-13T23:27:15.126550",
     "status": "completed"
    },
    "tags": []
   },
   "outputs": [
    {
     "data": {
      "text/html": [
       "<div>\n",
       "<style scoped>\n",
       "    .dataframe tbody tr th:only-of-type {\n",
       "        vertical-align: middle;\n",
       "    }\n",
       "\n",
       "    .dataframe tbody tr th {\n",
       "        vertical-align: top;\n",
       "    }\n",
       "\n",
       "    .dataframe thead th {\n",
       "        text-align: right;\n",
       "    }\n",
       "</style>\n",
       "<table border=\"1\" class=\"dataframe\">\n",
       "  <thead>\n",
       "    <tr style=\"text-align: right;\">\n",
       "      <th></th>\n",
       "      <th>txId</th>\n",
       "      <th>class</th>\n",
       "    </tr>\n",
       "  </thead>\n",
       "  <tbody>\n",
       "    <tr>\n",
       "      <th>0</th>\n",
       "      <td>230425980</td>\n",
       "      <td>2</td>\n",
       "    </tr>\n",
       "    <tr>\n",
       "      <th>1</th>\n",
       "      <td>5530458</td>\n",
       "      <td>2</td>\n",
       "    </tr>\n",
       "    <tr>\n",
       "      <th>2</th>\n",
       "      <td>232022460</td>\n",
       "      <td>2</td>\n",
       "    </tr>\n",
       "    <tr>\n",
       "      <th>3</th>\n",
       "      <td>232438397</td>\n",
       "      <td>0</td>\n",
       "    </tr>\n",
       "    <tr>\n",
       "      <th>4</th>\n",
       "      <td>230460314</td>\n",
       "      <td>2</td>\n",
       "    </tr>\n",
       "  </tbody>\n",
       "</table>\n",
       "</div>"
      ],
      "text/plain": [
       "        txId  class\n",
       "0  230425980      2\n",
       "1    5530458      2\n",
       "2  232022460      2\n",
       "3  232438397      0\n",
       "4  230460314      2"
      ]
     },
     "execution_count": 6,
     "metadata": {},
     "output_type": "execute_result"
    }
   ],
   "source": [
    "# classes\n",
    "# 0 — legitimate\n",
    "# 1 — fraud\n",
    "# 2 — unknown class\n",
    "df_classes.head()"
   ]
  },
  {
   "cell_type": "markdown",
   "id": "f7065fd4",
   "metadata": {
    "papermill": {
     "duration": 0.00982,
     "end_time": "2023-12-13T23:27:15.168607",
     "exception": false,
     "start_time": "2023-12-13T23:27:15.158787",
     "status": "completed"
    },
    "tags": []
   },
   "source": [
    "Here is the class distribution."
   ]
  },
  {
   "cell_type": "code",
   "execution_count": 7,
   "id": "4925b773",
   "metadata": {
    "execution": {
     "iopub.execute_input": "2023-12-13T23:27:15.189971Z",
     "iopub.status.busy": "2023-12-13T23:27:15.189682Z",
     "iopub.status.idle": "2023-12-13T23:27:15.202975Z",
     "shell.execute_reply": "2023-12-13T23:27:15.202032Z"
    },
    "papermill": {
     "duration": 0.026544,
     "end_time": "2023-12-13T23:27:15.205267",
     "exception": false,
     "start_time": "2023-12-13T23:27:15.178723",
     "status": "completed"
    },
    "tags": []
   },
   "outputs": [
    {
     "data": {
      "text/plain": [
       "class\n",
       "2    157205\n",
       "0     42019\n",
       "1      4545\n",
       "Name: count, dtype: int64"
      ]
     },
     "execution_count": 7,
     "metadata": {},
     "output_type": "execute_result"
    }
   ],
   "source": [
    "df_classes['class'].value_counts()"
   ]
  },
  {
   "cell_type": "markdown",
   "id": "207c40cc",
   "metadata": {
    "papermill": {
     "duration": 0.010103,
     "end_time": "2023-12-13T23:27:15.225822",
     "exception": false,
     "start_time": "2023-12-13T23:27:15.215719",
     "status": "completed"
    },
    "tags": []
   },
   "source": [
    "## Preprocessing\n",
    "Now, let's convert our data into the `torch_geometric.data.Data` object. First, let's make a dataframe that contains both node features and class."
   ]
  },
  {
   "cell_type": "code",
   "execution_count": 8,
   "id": "59a411a0",
   "metadata": {
    "execution": {
     "iopub.execute_input": "2023-12-13T23:27:15.247730Z",
     "iopub.status.busy": "2023-12-13T23:27:15.247415Z",
     "iopub.status.idle": "2023-12-13T23:27:15.698462Z",
     "shell.execute_reply": "2023-12-13T23:27:15.697650Z"
    },
    "papermill": {
     "duration": 0.464894,
     "end_time": "2023-12-13T23:27:15.700946",
     "exception": false,
     "start_time": "2023-12-13T23:27:15.236052",
     "status": "completed"
    },
    "tags": []
   },
   "outputs": [],
   "source": [
    "# merging node features DF with classes DF\n",
    "df_merge = df_features.merge(df_classes, how='left', right_on=\"txId\", left_on=0)\n",
    "df_merge = df_merge.sort_values(0).reset_index(drop=True)"
   ]
  },
  {
   "cell_type": "markdown",
   "id": "d611c87b",
   "metadata": {
    "papermill": {
     "duration": 0.009493,
     "end_time": "2023-12-13T23:27:15.720242",
     "exception": false,
     "start_time": "2023-12-13T23:27:15.710749",
     "status": "completed"
    },
    "tags": []
   },
   "source": [
    "Next, we will need edges in a [COO format](https://en.wikipedia.org/wiki/Sparse_matrix#Coordinate_list_(COO)). To do that, we map `edges.txId1` and `edges.txId2` to the indices of the corresponding nodes in a `df_merge`. In the end we store edge indices as `torch.Tensor`."
   ]
  },
  {
   "cell_type": "code",
   "execution_count": 9,
   "id": "5a6a06ae",
   "metadata": {
    "execution": {
     "iopub.execute_input": "2023-12-13T23:27:15.740465Z",
     "iopub.status.busy": "2023-12-13T23:27:15.740104Z",
     "iopub.status.idle": "2023-12-13T23:27:18.022052Z",
     "shell.execute_reply": "2023-12-13T23:27:18.021050Z"
    },
    "papermill": {
     "duration": 2.294873,
     "end_time": "2023-12-13T23:27:18.024521",
     "exception": false,
     "start_time": "2023-12-13T23:27:15.729648",
     "status": "completed"
    },
    "tags": []
   },
   "outputs": [
    {
     "name": "stdout",
     "output_type": "stream",
     "text": [
      "Total amount of edges in DAG: torch.Size([2, 234355])\n"
     ]
    }
   ],
   "source": [
    "# mapping nodes to indices\n",
    "nodes = df_merge[0].values\n",
    "map_id = {j:i for i,j in enumerate(nodes)}\n",
    "\n",
    "# mapping edges to indices\n",
    "edges = df_edges.copy()\n",
    "edges.txId1 = edges.txId1.map(map_id)\n",
    "edges.txId2 = edges.txId2.map(map_id)\n",
    "edges = edges.astype(int)\n",
    "\n",
    "edge_index = np.array(edges.values).T\n",
    "edge_index = torch.tensor(edge_index, dtype=torch.long).contiguous()\n",
    "\n",
    "# weights for the edges are equal in case of model without attention\n",
    "weights = torch.tensor([1] * edge_index.shape[1] , dtype=torch.float32)\n",
    "\n",
    "print(\"Total amount of edges in DAG:\", edge_index.shape)"
   ]
  },
  {
   "cell_type": "markdown",
   "id": "b005e003",
   "metadata": {
    "papermill": {
     "duration": 0.010605,
     "end_time": "2023-12-13T23:27:18.045679",
     "exception": false,
     "start_time": "2023-12-13T23:27:18.035074",
     "status": "completed"
    },
    "tags": []
   },
   "source": [
    "Next, we will need node feature matrix. Here we also map each ID to corresponding index. Then, we will store all the unknown nodes in `unclassified_idx`, that's why we remove class 2, since we no longer need it. In the end, we drop everything but features and store it as `torch.Tensor`."
   ]
  },
  {
   "cell_type": "code",
   "execution_count": 10,
   "id": "af2d9761",
   "metadata": {
    "execution": {
     "iopub.execute_input": "2023-12-13T23:27:18.068240Z",
     "iopub.status.busy": "2023-12-13T23:27:18.067876Z",
     "iopub.status.idle": "2023-12-13T23:27:19.541704Z",
     "shell.execute_reply": "2023-12-13T23:27:19.540837Z"
    },
    "papermill": {
     "duration": 1.488169,
     "end_time": "2023-12-13T23:27:19.544387",
     "exception": false,
     "start_time": "2023-12-13T23:27:18.056218",
     "status": "completed"
    },
    "tags": []
   },
   "outputs": [],
   "source": [
    "# maping node ids to corresponding indexes\n",
    "node_features = df_merge.drop(['txId'], axis=1).copy()\n",
    "node_features[0] = node_features[0].map(map_id)\n",
    "\n",
    "# store known and unknown nodes\n",
    "classified_idx = node_features['class'].loc[node_features['class'] != 2].index\n",
    "unclassified_idx = node_features['class'].loc[node_features['class'] == 2].index\n",
    "\n",
    "# replace unkown class with 0, to avoid having 3 classes, this data/labels never used in training\n",
    "node_features['class'] = node_features['class'].replace(2, 0)\n",
    "\n",
    "labels = node_features['class'].values\n",
    "\n",
    "# drop indeces, class and temporal axes\n",
    "node_features = torch.tensor(np.array(node_features.drop([0, 'class', 1], axis=1).values, dtype=np.float32), dtype=torch.float32)"
   ]
  },
  {
   "cell_type": "markdown",
   "id": "18e04a1f",
   "metadata": {
    "papermill": {
     "duration": 0.009607,
     "end_time": "2023-12-13T23:27:19.565547",
     "exception": false,
     "start_time": "2023-12-13T23:27:19.555940",
     "status": "completed"
    },
    "tags": []
   },
   "source": [
    "In this cell, we finally create an object of type `torch_geometric.data.Data`. Here, we pass following parameters:\n",
    "- `x` – Node feature matrix with shape.\n",
    "\n",
    "- `edge_index` – Graph connectivity in COO format with shape `[2, num_edges]`.\n",
    "\n",
    "- `edge_attr` – Edge feature matrix with shape `[num_edges, num_edge_features]`.\n",
    "\n",
    "- `y` – Graph-level or node-level ground-truth labels with arbitrary shape.\n",
    "\n",
    "We also print a brief description of our network."
   ]
  },
  {
   "cell_type": "code",
   "execution_count": 11,
   "id": "195c2a61",
   "metadata": {
    "execution": {
     "iopub.execute_input": "2023-12-13T23:27:19.588160Z",
     "iopub.status.busy": "2023-12-13T23:27:19.587345Z",
     "iopub.status.idle": "2023-12-13T23:27:19.774962Z",
     "shell.execute_reply": "2023-12-13T23:27:19.773923Z"
    },
    "papermill": {
     "duration": 0.201701,
     "end_time": "2023-12-13T23:27:19.777528",
     "exception": false,
     "start_time": "2023-12-13T23:27:19.575827",
     "status": "completed"
    },
    "tags": []
   },
   "outputs": [
    {
     "name": "stdout",
     "output_type": "stream",
     "text": [
      "Number of nodes: 203769\n",
      "Number of node features: 165\n",
      "Number of edges: 234355\n",
      "Number of edge features: 165\n",
      "Average node degree: 1.15\n",
      "Number of classes: 2\n",
      "Has isolated nodes: False\n",
      "Has self loops: False\n",
      "Is directed: True\n"
     ]
    }
   ],
   "source": [
    "# converting data to PyGeometric graph data format\n",
    "elliptic_dataset = Data(x = node_features,\n",
    "                        edge_index = edge_index,\n",
    "                        edge_attr = weights,\n",
    "                        y = torch.tensor(labels, dtype=torch.float32))\n",
    "\n",
    "print(f'Number of nodes: {elliptic_dataset.num_nodes}')\n",
    "print(f'Number of node features: {elliptic_dataset.num_features}')\n",
    "print(f'Number of edges: {elliptic_dataset.num_edges}')\n",
    "print(f'Number of edge features: {elliptic_dataset.num_features}')\n",
    "print(f'Average node degree: {elliptic_dataset.num_edges / elliptic_dataset.num_nodes:.2f}')\n",
    "print(f'Number of classes: {len(np.unique(elliptic_dataset.y))}')\n",
    "print(f'Has isolated nodes: {elliptic_dataset.has_isolated_nodes()}')\n",
    "print(f'Has self loops: {elliptic_dataset.has_self_loops()}')\n",
    "print(f'Is directed: {elliptic_dataset.is_directed()}')"
   ]
  },
  {
   "cell_type": "markdown",
   "id": "78794160",
   "metadata": {
    "papermill": {
     "duration": 0.009822,
     "end_time": "2023-12-13T23:27:19.797354",
     "exception": false,
     "start_time": "2023-12-13T23:27:19.787532",
     "status": "completed"
    },
    "tags": []
   },
   "source": [
    "Here, we create a config to keep all parameters in one place."
   ]
  },
  {
   "cell_type": "code",
   "execution_count": 12,
   "id": "b03e9819",
   "metadata": {
    "execution": {
     "iopub.execute_input": "2023-12-13T23:27:19.818022Z",
     "iopub.status.busy": "2023-12-13T23:27:19.817733Z",
     "iopub.status.idle": "2023-12-13T23:27:19.921706Z",
     "shell.execute_reply": "2023-12-13T23:27:19.920745Z"
    },
    "papermill": {
     "duration": 0.117841,
     "end_time": "2023-12-13T23:27:19.924823",
     "exception": false,
     "start_time": "2023-12-13T23:27:19.806982",
     "status": "completed"
    },
    "tags": []
   },
   "outputs": [
    {
     "name": "stdout",
     "output_type": "stream",
     "text": [
      "Using device: cuda\n"
     ]
    }
   ],
   "source": [
    "config = SimpleNamespace(seed = 0,\n",
    "                         learning_rate = 0.001,\n",
    "                         weight_decay = 1e-5,\n",
    "                         input_dim = 165,\n",
    "                         output_dim = 1,\n",
    "                         hidden_size = 128,\n",
    "                         num_epochs = 400,\n",
    "                         checkpoints_dir = './models/elliptic_gnn',\n",
    "                         device = torch.device('cuda' if torch.cuda.is_available() else 'cpu'))\n",
    "\n",
    "print(\"Using device:\", config.device)"
   ]
  },
  {
   "cell_type": "markdown",
   "id": "ef4c0d7a",
   "metadata": {
    "papermill": {
     "duration": 0.011391,
     "end_time": "2023-12-13T23:27:19.946640",
     "exception": false,
     "start_time": "2023-12-13T23:27:19.935249",
     "status": "completed"
    },
    "tags": []
   },
   "source": [
    "Finally, we split our data into train, valid and test; where train and valid are 0.85 and 0.15 partitions of the classified nodes and test is all unclassified nodes."
   ]
  },
  {
   "cell_type": "code",
   "execution_count": 13,
   "id": "dd3144d7",
   "metadata": {
    "execution": {
     "iopub.execute_input": "2023-12-13T23:27:19.968325Z",
     "iopub.status.busy": "2023-12-13T23:27:19.967955Z",
     "iopub.status.idle": "2023-12-13T23:27:20.191855Z",
     "shell.execute_reply": "2023-12-13T23:27:20.190743Z"
    },
    "papermill": {
     "duration": 0.238072,
     "end_time": "2023-12-13T23:27:20.194883",
     "exception": false,
     "start_time": "2023-12-13T23:27:19.956811",
     "status": "completed"
    },
    "tags": []
   },
   "outputs": [
    {
     "name": "stdout",
     "output_type": "stream",
     "text": [
      "Train dataset size: 39579\n",
      "Validation dataset size: 6985\n",
      "Test dataset size: 157205\n"
     ]
    }
   ],
   "source": [
    "y_train = labels[classified_idx]\n",
    "\n",
    "# spliting train set and validation set\n",
    "_, _, _, _, train_idx, valid_idx = train_test_split(node_features[classified_idx],\n",
    "                                                    y_train,\n",
    "                                                    classified_idx,\n",
    "                                                    test_size=0.15,\n",
    "                                                    random_state=config.seed,\n",
    "                                                    stratify=y_train)\n",
    "\n",
    "elliptic_dataset.train_idx = torch.tensor(train_idx, dtype=torch.long)\n",
    "elliptic_dataset.val_idx = torch.tensor(valid_idx, dtype=torch.long)\n",
    "elliptic_dataset.test_idx = torch.tensor(unclassified_idx, dtype=torch.long)\n",
    "\n",
    "print(\"Train dataset size:\", elliptic_dataset.train_idx.shape[0])\n",
    "print(\"Validation dataset size:\", elliptic_dataset.val_idx.shape[0])\n",
    "print(\"Test dataset size:\", elliptic_dataset.test_idx.shape[0])"
   ]
  },
  {
   "cell_type": "markdown",
   "id": "81034ca4",
   "metadata": {
    "papermill": {
     "duration": 0.010884,
     "end_time": "2023-12-13T23:27:20.217269",
     "exception": false,
     "start_time": "2023-12-13T23:27:20.206385",
     "status": "completed"
    },
    "tags": []
   },
   "source": [
    "## Model and metric definition\n",
    "Here, we will use 2 layers of graph attention: `self.gat1` and `self.gat2`, which are initialized with `torch_geometric.nn.GATv2Conv` class. Both attention layers use multi-headed attention, but on the output layer we use averaging, insted of concatenation, as proposed in theory part. We also apply **dropout** and **batch normalization** on each layer to improve stability.\n",
    "\n",
    "We also define **accuracy** metric here."
   ]
  },
  {
   "cell_type": "code",
   "execution_count": 14,
   "id": "c56c9ad4",
   "metadata": {
    "execution": {
     "iopub.execute_input": "2023-12-13T23:27:20.240137Z",
     "iopub.status.busy": "2023-12-13T23:27:20.239807Z",
     "iopub.status.idle": "2023-12-13T23:27:20.249140Z",
     "shell.execute_reply": "2023-12-13T23:27:20.248271Z"
    },
    "papermill": {
     "duration": 0.02315,
     "end_time": "2023-12-13T23:27:20.251161",
     "exception": false,
     "start_time": "2023-12-13T23:27:20.228011",
     "status": "completed"
    },
    "tags": []
   },
   "outputs": [],
   "source": [
    "class GAT(torch.nn.Module):\n",
    "    \"\"\"Graph Attention Network\"\"\"\n",
    "    def __init__(self, dim_in, dim_h, dim_out, heads=8):\n",
    "        super(GAT, self).__init__()\n",
    "        self.norm1 = BatchNorm1d(dim_in)\n",
    "        self.gat1 = GATv2Conv(dim_in, dim_h, heads=heads,\n",
    "                              dropout=0.3)\n",
    "        self.norm2 = BatchNorm1d(dim_h*heads)\n",
    "        self.gat2 = GATv2Conv(dim_h*heads, dim_out, heads=heads,\n",
    "                              concat=False, dropout=0.6)\n",
    "\n",
    "    def forward(self, x, edge_index):\n",
    "        h = self.norm1(x)\n",
    "        h = self.gat1(h, edge_index)\n",
    "        h = self.norm2(h)\n",
    "        h = F.leaky_relu(h)\n",
    "        out = self.gat2(h, edge_index)\n",
    "        return out\n",
    "\n",
    "def accuracy(y_pred, y_test, prediction_threshold=0.5):\n",
    "    y_pred_label = (torch.sigmoid(y_pred) > prediction_threshold).float()\n",
    "\n",
    "    correct_results_sum = (y_pred_label == y_test).sum().float()\n",
    "    acc = correct_results_sum/y_test.shape[0]\n",
    "\n",
    "    return acc"
   ]
  },
  {
   "cell_type": "markdown",
   "id": "f371592a",
   "metadata": {
    "papermill": {
     "duration": 0.009809,
     "end_time": "2023-12-13T23:27:20.271040",
     "exception": false,
     "start_time": "2023-12-13T23:27:20.261231",
     "status": "completed"
    },
    "tags": []
   },
   "source": [
    "## Training\n",
    "Here we do simple training and testing for binary classification just like in pure **PyTorch**.\n",
    "\n",
    "*See [PyTorch Tutorials](https://pytorch.org/tutorials/beginner/introyt/trainingyt.html) for reference.*"
   ]
  },
  {
   "cell_type": "code",
   "execution_count": 15,
   "id": "6d612a1c",
   "metadata": {
    "execution": {
     "iopub.execute_input": "2023-12-13T23:27:20.338184Z",
     "iopub.status.busy": "2023-12-13T23:27:20.337427Z",
     "iopub.status.idle": "2023-12-13T23:27:20.350973Z",
     "shell.execute_reply": "2023-12-13T23:27:20.350013Z"
    },
    "papermill": {
     "duration": 0.026764,
     "end_time": "2023-12-13T23:27:20.352949",
     "exception": false,
     "start_time": "2023-12-13T23:27:20.326185",
     "status": "completed"
    },
    "tags": []
   },
   "outputs": [],
   "source": [
    "def train_evaluate(model, data, criterion, optimizer, *args):\n",
    "    num_epochs = args[0]\n",
    "    checkpoints_dir = args[1]\n",
    "    model_filename = args[2]\n",
    "\n",
    "    best_model_wts = copy.deepcopy(model.state_dict())\n",
    "\n",
    "    best_loss = float('inf')\n",
    "\n",
    "    if not os.path.exists(checkpoints_dir):\n",
    "        os.makedirs(checkpoints_dir)\n",
    "\n",
    "    model.train()\n",
    "    for epoch in range(num_epochs+1):\n",
    "        # Training\n",
    "        optimizer.zero_grad()\n",
    "        out = model(data.x, data.edge_index)\n",
    "        loss = criterion(out[data.train_idx], data.y[data.train_idx].unsqueeze(1))\n",
    "        acc = accuracy(out[data.train_idx], data.y[data.train_idx].unsqueeze(1), prediction_threshold=0.5)\n",
    "        loss.backward()\n",
    "        optimizer.step()\n",
    "\n",
    "        # Validation\n",
    "        val_loss = criterion(out[data.val_idx], data.y[data.val_idx].unsqueeze(1))\n",
    "        val_acc = accuracy(out[data.val_idx], data.y[data.val_idx].unsqueeze(1), prediction_threshold=0.5)\n",
    "\n",
    "        if epoch % 10 == 0:\n",
    "            print(f'Epoch {epoch:>3} | Train Loss: {loss:.3f} | Train Acc: '\n",
    "                  f'{acc*100:>6.2f}% | Val Loss: {val_loss:.4f} | '\n",
    "                  f'Val Acc: {val_acc*100:.2f}%')\n",
    "\n",
    "            if val_loss < best_loss:\n",
    "                best_loss = val_loss\n",
    "                print(\"Saving model for best loss\")\n",
    "                checkpoint = {'state_dict': best_model_wts}\n",
    "                torch.save(checkpoint, os.path.join(checkpoints_dir, model_filename))\n",
    "                best_model_wts = copy.deepcopy(model.state_dict())\n",
    "\n",
    "    return model\n",
    "\n",
    "def test(model, data):\n",
    "    model.eval()\n",
    "    out = model(data.x, data.edge_index)\n",
    "    preds = ((torch.sigmoid(out) > 0.5).float()*1).squeeze(1)\n",
    "    return preds"
   ]
  },
  {
   "cell_type": "code",
   "execution_count": 16,
   "id": "c2ba44ed",
   "metadata": {
    "execution": {
     "iopub.execute_input": "2023-12-13T23:27:20.374569Z",
     "iopub.status.busy": "2023-12-13T23:27:20.373834Z",
     "iopub.status.idle": "2023-12-13T23:31:26.040725Z",
     "shell.execute_reply": "2023-12-13T23:31:26.039678Z"
    },
    "papermill": {
     "duration": 245.680028,
     "end_time": "2023-12-13T23:31:26.043178",
     "exception": false,
     "start_time": "2023-12-13T23:27:20.363150",
     "status": "completed"
    },
    "tags": []
   },
   "outputs": [
    {
     "name": "stdout",
     "output_type": "stream",
     "text": [
      "Epoch   0 | Train Loss: 0.761 | Train Acc:  49.94% | Val Loss: 0.7537 | Val Acc: 51.14%\n",
      "Saving model for best loss\n",
      "Epoch  10 | Train Loss: 0.246 | Train Acc:  90.47% | Val Loss: 0.2445 | Val Acc: 90.44%\n",
      "Saving model for best loss\n",
      "Epoch  20 | Train Loss: 0.221 | Train Acc:  91.39% | Val Loss: 0.2199 | Val Acc: 91.54%\n",
      "Saving model for best loss\n",
      "Epoch  30 | Train Loss: 0.201 | Train Acc:  92.76% | Val Loss: 0.1979 | Val Acc: 92.71%\n",
      "Saving model for best loss\n",
      "Epoch  40 | Train Loss: 0.186 | Train Acc:  93.70% | Val Loss: 0.1857 | Val Acc: 93.47%\n",
      "Saving model for best loss\n",
      "Epoch  50 | Train Loss: 0.172 | Train Acc:  94.33% | Val Loss: 0.1765 | Val Acc: 94.14%\n",
      "Saving model for best loss\n",
      "Epoch  60 | Train Loss: 0.163 | Train Acc:  94.81% | Val Loss: 0.1651 | Val Acc: 94.70%\n",
      "Saving model for best loss\n",
      "Epoch  70 | Train Loss: 0.153 | Train Acc:  95.26% | Val Loss: 0.1564 | Val Acc: 95.18%\n",
      "Saving model for best loss\n",
      "Epoch  80 | Train Loss: 0.147 | Train Acc:  95.67% | Val Loss: 0.1492 | Val Acc: 95.46%\n",
      "Saving model for best loss\n",
      "Epoch  90 | Train Loss: 0.138 | Train Acc:  95.91% | Val Loss: 0.1414 | Val Acc: 95.83%\n",
      "Saving model for best loss\n",
      "Epoch 100 | Train Loss: 0.134 | Train Acc:  96.16% | Val Loss: 0.1415 | Val Acc: 95.76%\n",
      "Epoch 110 | Train Loss: 0.129 | Train Acc:  96.25% | Val Loss: 0.1361 | Val Acc: 96.03%\n",
      "Saving model for best loss\n",
      "Epoch 120 | Train Loss: 0.123 | Train Acc:  96.35% | Val Loss: 0.1356 | Val Acc: 95.91%\n",
      "Saving model for best loss\n",
      "Epoch 130 | Train Loss: 0.119 | Train Acc:  96.60% | Val Loss: 0.1251 | Val Acc: 96.18%\n",
      "Saving model for best loss\n",
      "Epoch 140 | Train Loss: 0.114 | Train Acc:  96.68% | Val Loss: 0.1261 | Val Acc: 96.28%\n",
      "Epoch 150 | Train Loss: 0.111 | Train Acc:  96.80% | Val Loss: 0.1211 | Val Acc: 96.58%\n",
      "Saving model for best loss\n",
      "Epoch 160 | Train Loss: 0.109 | Train Acc:  96.88% | Val Loss: 0.1180 | Val Acc: 96.52%\n",
      "Saving model for best loss\n",
      "Epoch 170 | Train Loss: 0.105 | Train Acc:  96.99% | Val Loss: 0.1126 | Val Acc: 96.79%\n",
      "Saving model for best loss\n",
      "Epoch 180 | Train Loss: 0.103 | Train Acc:  97.04% | Val Loss: 0.1127 | Val Acc: 96.74%\n",
      "Epoch 190 | Train Loss: 0.097 | Train Acc:  97.17% | Val Loss: 0.1101 | Val Acc: 96.78%\n",
      "Saving model for best loss\n",
      "Epoch 200 | Train Loss: 0.096 | Train Acc:  97.27% | Val Loss: 0.1130 | Val Acc: 96.89%\n",
      "Epoch 210 | Train Loss: 0.093 | Train Acc:  97.42% | Val Loss: 0.1076 | Val Acc: 97.08%\n",
      "Saving model for best loss\n",
      "Epoch 220 | Train Loss: 0.091 | Train Acc:  97.43% | Val Loss: 0.1051 | Val Acc: 96.95%\n",
      "Saving model for best loss\n",
      "Epoch 230 | Train Loss: 0.089 | Train Acc:  97.45% | Val Loss: 0.1065 | Val Acc: 97.04%\n",
      "Epoch 240 | Train Loss: 0.087 | Train Acc:  97.60% | Val Loss: 0.1031 | Val Acc: 97.01%\n",
      "Saving model for best loss\n",
      "Epoch 250 | Train Loss: 0.085 | Train Acc:  97.69% | Val Loss: 0.0948 | Val Acc: 97.09%\n",
      "Saving model for best loss\n",
      "Epoch 260 | Train Loss: 0.083 | Train Acc:  97.78% | Val Loss: 0.1013 | Val Acc: 97.19%\n",
      "Epoch 270 | Train Loss: 0.081 | Train Acc:  97.82% | Val Loss: 0.0983 | Val Acc: 97.27%\n",
      "Epoch 280 | Train Loss: 0.079 | Train Acc:  97.87% | Val Loss: 0.0960 | Val Acc: 97.34%\n",
      "Epoch 290 | Train Loss: 0.076 | Train Acc:  97.95% | Val Loss: 0.0950 | Val Acc: 97.34%\n",
      "Epoch 300 | Train Loss: 0.076 | Train Acc:  97.86% | Val Loss: 0.0934 | Val Acc: 97.39%\n",
      "Saving model for best loss\n",
      "Epoch 310 | Train Loss: 0.072 | Train Acc:  98.03% | Val Loss: 0.0929 | Val Acc: 97.27%\n",
      "Saving model for best loss\n",
      "Epoch 320 | Train Loss: 0.075 | Train Acc:  97.98% | Val Loss: 0.0981 | Val Acc: 97.34%\n",
      "Epoch 330 | Train Loss: 0.070 | Train Acc:  98.06% | Val Loss: 0.0891 | Val Acc: 97.48%\n",
      "Saving model for best loss\n",
      "Epoch 340 | Train Loss: 0.068 | Train Acc:  98.15% | Val Loss: 0.0880 | Val Acc: 97.51%\n",
      "Saving model for best loss\n",
      "Epoch 350 | Train Loss: 0.067 | Train Acc:  98.19% | Val Loss: 0.0864 | Val Acc: 97.52%\n",
      "Saving model for best loss\n",
      "Epoch 360 | Train Loss: 0.066 | Train Acc:  98.21% | Val Loss: 0.0886 | Val Acc: 97.45%\n",
      "Epoch 370 | Train Loss: 0.065 | Train Acc:  98.29% | Val Loss: 0.0873 | Val Acc: 97.52%\n",
      "Epoch 380 | Train Loss: 0.064 | Train Acc:  98.30% | Val Loss: 0.0864 | Val Acc: 97.59%\n",
      "Epoch 390 | Train Loss: 0.061 | Train Acc:  98.31% | Val Loss: 0.0852 | Val Acc: 97.54%\n",
      "Saving model for best loss\n",
      "Epoch 400 | Train Loss: 0.061 | Train Acc:  98.41% | Val Loss: 0.0853 | Val Acc: 97.65%\n"
     ]
    },
    {
     "data": {
      "text/plain": [
       "GAT(\n",
       "  (norm1): BatchNorm1d(165, eps=1e-05, momentum=0.1, affine=True, track_running_stats=True)\n",
       "  (gat1): GATv2Conv(165, 128, heads=8)\n",
       "  (norm2): BatchNorm1d(1024, eps=1e-05, momentum=0.1, affine=True, track_running_stats=True)\n",
       "  (gat2): GATv2Conv(1024, 1, heads=8)\n",
       ")"
      ]
     },
     "execution_count": 16,
     "metadata": {},
     "output_type": "execute_result"
    }
   ],
   "source": [
    "torch.manual_seed(config.seed)\n",
    "\n",
    "gat_model = GAT(config.input_dim, config.hidden_size, config.output_dim).to(config.device)\n",
    "data_train = elliptic_dataset.to(config.device)\n",
    "\n",
    "optimizer = torch.optim.Adam(gat_model.parameters(), lr=config.learning_rate, weight_decay=config.weight_decay)\n",
    "criterion = torch.nn.BCEWithLogitsLoss()\n",
    "\n",
    "train_evaluate(gat_model,\n",
    "               data_train,\n",
    "               criterion,\n",
    "               optimizer,\n",
    "               config.num_epochs,\n",
    "               config.checkpoints_dir,\n",
    "               'gat_best_model.pth.tar')"
   ]
  },
  {
   "cell_type": "markdown",
   "id": "7954b203",
   "metadata": {
    "papermill": {
     "duration": 0.013771,
     "end_time": "2023-12-13T23:31:26.071066",
     "exception": false,
     "start_time": "2023-12-13T23:31:26.057295",
     "status": "completed"
    },
    "tags": []
   },
   "source": [
    "## Evaluating\n",
    "Finally, we can evaluate our model. Our main target is to detect fraudsters, which means that we are mostly interested in **illicit F1 score = 0.89**, which is pretty could for our task.\n",
    "\n",
    "Also, confusion matrix and full classification report are provided here."
   ]
  },
  {
   "cell_type": "code",
   "execution_count": 17,
   "id": "529c00ec",
   "metadata": {
    "execution": {
     "iopub.execute_input": "2023-12-13T23:31:26.099310Z",
     "iopub.status.busy": "2023-12-13T23:31:26.098969Z",
     "iopub.status.idle": "2023-12-13T23:31:26.591195Z",
     "shell.execute_reply": "2023-12-13T23:31:26.590063Z"
    },
    "papermill": {
     "duration": 0.50893,
     "end_time": "2023-12-13T23:31:26.593531",
     "exception": false,
     "start_time": "2023-12-13T23:31:26.084601",
     "status": "completed"
    },
    "tags": []
   },
   "outputs": [
    {
     "data": {
      "image/png": "[encoded data removed]",
      "text/plain": [
       "<Figure size 600x600 with 1 Axes>"
      ]
     },
     "metadata": {},
     "output_type": "display_data"
    },
    {
     "name": "stdout",
     "output_type": "stream",
     "text": [
      "              precision    recall  f1-score   support\n",
      "\n",
      "       licit       0.99      0.99      0.99      6303\n",
      "     illicit       0.92      0.86      0.89       682\n",
      "\n",
      "    accuracy                           0.98      6985\n",
      "   macro avg       0.95      0.93      0.94      6985\n",
      "weighted avg       0.98      0.98      0.98      6985\n",
      "\n"
     ]
    }
   ],
   "source": [
    "gat_model.load_state_dict(torch.load(os.path.join(config.checkpoints_dir, 'gat_best_model.pth.tar'))['state_dict'])\n",
    "\n",
    "y_test_preds = test(gat_model, data_train)\n",
    "\n",
    "# confusion matrix on validation data\n",
    "conf_mat = confusion_matrix(data_train.y[data_train.val_idx].detach().cpu().numpy(), y_test_preds[valid_idx].cpu())\n",
    "\n",
    "plt.subplots(figsize=(6,6))\n",
    "sns.set(font_scale=1.4)\n",
    "sns.heatmap(conf_mat, annot=True, fmt=\".0f\", annot_kws={\"size\": 16}, cbar=False)\n",
    "plt.xlabel('Target (true) Class'); plt.ylabel('Output (predicted) class'); plt.title('Confusion Matrix')\n",
    "plt.show();\n",
    "\n",
    "print(classification_report(data_train.y[data_train.val_idx].detach().cpu().numpy(),\n",
    "                            y_test_preds[valid_idx].cpu(),\n",
    "                            target_names=['licit', 'illicit']))"
   ]
  }
 ],
 "metadata": {
  "kaggle": {
   "accelerator": "nvidiaTeslaT4",
   "dataSources": [
    {
     "datasetId": 284040,
     "sourceId": 584717,
     "sourceType": "datasetVersion"
    },
    {
     "datasetId": 1640734,
     "sourceId": 6958662,
     "sourceType": "datasetVersion"
    }
   ],
   "dockerImageVersionId": 30627,
   "isGpuEnabled": true,
   "isInternetEnabled": true,
   "language": "python",
   "sourceType": "notebook"
  },
  "kernelspec": {
   "display_name": "Python 3",
   "language": "python",
   "name": "python3"
  },
  "language_info": {
   "codemirror_mode": {
    "name": "ipython",
    "version": 3
   },
   "file_extension": ".py",
   "mimetype": "text/x-python",
   "name": "python",
   "nbconvert_exporter": "python",
   "pygments_lexer": "ipython3",
   "version": "3.10.12"
  },
  "papermill": {
   "default_parameters": {},
   "duration": 327.750873,
   "end_time": "2023-12-13T23:31:29.224661",
   "environment_variables": {},
   "exception": null,
   "input_path": "__notebook__.ipynb",
   "output_path": "__notebook__.ipynb",
   "parameters": {},
   "start_time": "2023-12-13T23:26:01.473788",
   "version": "2.4.0"
  }
 },
 "nbformat": 4,
 "nbformat_minor": 5
}
